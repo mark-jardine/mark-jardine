{
  "nbformat": 4,
  "nbformat_minor": 0,
  "metadata": {
    "colab": {
      "name": "Rodent_Detector",
      "provenance": [],
      "collapsed_sections": [],
      "authorship_tag": "ABX9TyMoIjZGZmlQBvkCI1acW1yv",
      "include_colab_link": true
    },
    "kernelspec": {
      "name": "python3",
      "display_name": "Python 3"
    }
  },
  "cells": [
    {
      "cell_type": "markdown",
      "metadata": {
        "id": "view-in-github",
        "colab_type": "text"
      },
      "source": [
        "<a href=\"https://colab.research.google.com/github/mark-jardine/mark-jardine/blob/main/Rodent_Detector.ipynb\" target=\"_parent\"><img src=\"https://colab.research.google.com/assets/colab-badge.svg\" alt=\"Open In Colab\"/></a>"
      ]
    },
    {
      "cell_type": "code",
      "metadata": {
        "id": "BB0rxwwnz4oP"
      },
      "source": [
        "#Install pre-requisites\r\n",
        "!pip install -Uqq fastbook\r\n",
        "!pip install voila\r\n",
        "!jupyter serverextension enable --sys prefix voila"
      ],
      "execution_count": null,
      "outputs": []
    },
    {
      "cell_type": "code",
      "metadata": {
        "id": "R_-4HIA20CDZ"
      },
      "source": [
        "#Imports\r\n",
        "from fastbook import *\r\n",
        "from fastai.vision.widgets import *"
      ],
      "execution_count": null,
      "outputs": []
    },
    {
      "cell_type": "code",
      "metadata": {
        "id": "cSxYduv90Ktp"
      },
      "source": [
        "#Setup fastbook\r\n",
        "import fastbook\r\n",
        "fastbook.setup_book()"
      ],
      "execution_count": null,
      "outputs": []
    },
    {
      "cell_type": "code",
      "metadata": {
        "id": "nIqHmZ_B0bnt"
      },
      "source": [
        "#Setup azure key(see chapter 2 of fast.ai lectures)\r\n",
        "key = os.environ.get(\"AZURE_SEARCH_KEY\",\"d2cda716193847808439e55b3b879da5\")"
      ],
      "execution_count": null,
      "outputs": []
    },
    {
      "cell_type": "code",
      "metadata": {
        "id": "zLis2Rut0jUh"
      },
      "source": [
        "#Set up list of rodents + create path\r\n",
        "rodent_types = \"Rat\", \"Capybara\", \"Hamster\"\r\n",
        "path = Path(\"rodents\")\r\n",
        "print(rodent_types)"
      ],
      "execution_count": null,
      "outputs": []
    },
    {
      "cell_type": "code",
      "metadata": {
        "id": "PFOrfTTl0ueJ"
      },
      "source": [
        "#Make directories if they dont exist\r\n",
        "if not path.exists():\r\n",
        "    path.mkdir()\r\n",
        "    for r in rodent_types:\r\n",
        "        print(r)\r\n",
        "        dest = (path/r)\r\n",
        "        dest.mkdir(exist_ok = True)\r\n",
        "        results = search_images_bing(key, f'{r} rodent') #Search for images of rodents with azure key\r\n",
        "        download_images(dest, urls = results.attrgot('contentUrl')) #download images and store in the path"
      ],
      "execution_count": null,
      "outputs": []
    },
    {
      "cell_type": "code",
      "metadata": {
        "id": "N3GhBWm21GPM"
      },
      "source": [
        "path.ls\r\n",
        "fns = get_image_files(path)\r\n",
        "fns"
      ],
      "execution_count": null,
      "outputs": []
    },
    {
      "cell_type": "code",
      "metadata": {
        "id": "MnXaXFnj1Ox7"
      },
      "source": [
        "#Remove failed images\r\n",
        "failed = verify_images(fns)\r\n",
        "failed\r\n",
        "failed.map(Path.unlink)"
      ],
      "execution_count": null,
      "outputs": []
    },
    {
      "cell_type": "code",
      "metadata": {
        "id": "rdw5DLIP1TF7"
      },
      "source": [
        "#Create a rodent Datablock object\r\n",
        "rodents = DataBlock(\r\n",
        "    blocks = (ImageBlock, CategoryBlock),\r\n",
        "    get_items = get_image_files,\r\n",
        "    splitter = RandomSplitter(valid_pct = 0.2, seed = 42),\r\n",
        "    get_y = parent_label,\r\n",
        "    item_tfms = Resize(128))\r\n",
        "dls.valid.show_batch(max_n=4, nrows=1)"
      ],
      "execution_count": null,
      "outputs": []
    },
    {
      "cell_type": "code",
      "metadata": {
        "id": "YlTpA4PM13Rr"
      },
      "source": [
        "#Set up Learner\r\n",
        "rodents = rodents.new(item_tfms = RandomResizedCrop(224,min_scale = 0.5),\r\n",
        "       batch_tfms = aug_transforms())\r\n",
        "dls = rodents.dataloaders(path, num_workers=0)\r\n",
        "learn = cnn_learner(dls,resnet34,metrics = error_rate)\r\n",
        "\r\n",
        "#Start transfer learning\r\n",
        "learn.fine_tune(4)"
      ],
      "execution_count": null,
      "outputs": []
    },
    {
      "cell_type": "code",
      "metadata": {
        "id": "1_hu1RvH2FS4"
      },
      "source": [
        "#Set up a cleaner to manually remove high loss images\r\n",
        "cleaner = ImageClassifierCleaner(learn)\r\n",
        "cleaner"
      ],
      "execution_count": null,
      "outputs": []
    }
  ]
}